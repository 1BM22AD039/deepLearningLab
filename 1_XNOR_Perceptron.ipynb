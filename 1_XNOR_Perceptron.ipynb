{
 "cells": [
  {
   "cell_type": "code",
   "execution_count": 1,
   "metadata": {},
   "outputs": [],
   "source": [
    "import numpy as np"
   ]
  },
  {
   "cell_type": "code",
   "execution_count": null,
   "metadata": {},
   "outputs": [],
   "source": [
    "class Perceptron:\n",
    "    \n",
    "    def __init__(self, wNOT, wAND, wOR, learning_rate, bNOT, bAND, bOR):\n",
    "        self.wNOT = wNOT\n",
    "        self.wAND = wAND\n",
    "        self.wOR = wOR\n",
    "        self.learning_rate = learning_rate\n",
    "        self.or_errors = 0\n",
    "        self.and_errors = 0\n",
    "        self.not_errors = 0\n",
    "        self.total_errors = 0\n",
    "        self.bNOT = bNOT\n",
    "        self.bAND = bAND\n",
    "        self.bOR = bOR\n",
    "    \n",
    "    def unitStep(self, v):\n",
    "        return 1 if v >= 0 else 0\n",
    "    \n",
    "    def perceptronModel(self, x, w, b):\n",
    "        v = np.dot(w, x) + b\n",
    "        y = self.unitStep(v)\n",
    "        return y\n",
    "\n",
    "    def NOT_logicFunction(self, x):\n",
    "        result = self.perceptronModel(x, self.wNOT, self.bNOT)\n",
    "        return result\n",
    "        \n",
    "    def AND_logicFunction(self, x):\n",
    "        result = self.perceptronModel(x, self.wAND, self.bAND)\n",
    "        return result\n",
    "    \n",
    "    def OR_logicFunction(self, x):\n",
    "        result = self.perceptronModel(x, self.wOR, self.bOR)\n",
    "        return result\n",
    "    \n",
    "    # Modification\n",
    "    def XNOR_logicFunction(self, x):\n",
    "        y1 = self.AND_logicFunction(x)  # y1 = A AND B\n",
    "        not_x = np.array([self.NOT_logicFunction(x[0]), self.NOT_logicFunction(x[1])])  # NOT A, NOT B\n",
    "        y2 = self.AND_logicFunction(not_x)  # y2 = AND(NOT A, NOT B)\n",
    "        \n",
    "        # Final output: XNOR = (A AND B) OR (NOT A AND NOT B)\n",
    "        final_x = np.array([y1, y2])  # final_x = [y1, y2]\n",
    "        final_output = self.OR_logicFunction(final_x)  # final_output = OR(y1, y2)\n",
    "        return final_output\n",
    "\n",
    "    def weight_update(self, expected_value, predicted_value, old_weight, x):\n",
    "        new_weight = old_weight + (self.learning_rate * (expected_value - predicted_value) * x)\n",
    "        return new_weight\n",
    "    \n",
    "    def update_and(self):\n",
    "        input_value = np.array([(0, 0), (0, 1), (1, 0), (1, 1)])\n",
    "        expected_value = np.array([0, 0, 0, 1])\n",
    "        \n",
    "        i = 0\n",
    "        while (i < len(input_value)):\n",
    "            output_value = self.AND_logicFunction(input_value[i])\n",
    "            if output_value != expected_value[i]:\n",
    "                self.wAND = self.weight_update(expected_value[i], output_value, self.wAND, input_value[i])\n",
    "                i = 0\n",
    "                self.and_errors += 1\n",
    "                self.total_errors += 1\n",
    "            else: \n",
    "                i += 1\n",
    "            \n",
    "    def update_or(self):\n",
    "        input_value = np.array([(0, 0), (0, 1), (1, 0), (1, 1)])\n",
    "        expected_value = np.array([0, 1, 1, 1])\n",
    "        \n",
    "        i = 0\n",
    "        while (i < len(input_value)):\n",
    "            output_value = self.OR_logicFunction(input_value[i])\n",
    "            if output_value != expected_value[i]:\n",
    "                self.wOR = self.weight_update(expected_value[i], output_value, self.wOR, input_value[i])\n",
    "                i = 0\n",
    "                self.or_errors += 1\n",
    "                self.total_errors += 1\n",
    "            else: \n",
    "                i += 1\n",
    "            \n",
    "    def update_not(self):\n",
    "        input_value = np.array([0, 1])\n",
    "        expected_value = np.array([1, 0])\n",
    "        \n",
    "        i = 0\n",
    "        while (i < len(input_value)):\n",
    "            output_value = self.NOT_logicFunction(input_value[i])\n",
    "            if output_value != expected_value[i]:\n",
    "                self.wNOT = self.weight_update(expected_value[i], output_value, self.wNOT, input_value[i])\n",
    "                i = 0\n",
    "                self.not_errors += 1\n",
    "                self.total_errors += 1\n",
    "            else: \n",
    "                i += 1"
   ]
  },
  {
   "cell_type": "code",
   "execution_count": 3,
   "metadata": {},
   "outputs": [],
   "source": [
    "test_data = [\n",
    "    np.array([0, 0]), \n",
    "    np.array([1, 1]), \n",
    "    np.array([0, 1]), \n",
    "    np.array([1, 0])\n",
    "]"
   ]
  },
  {
   "cell_type": "code",
   "execution_count": 4,
   "metadata": {},
   "outputs": [],
   "source": [
    "perceptron = Perceptron(\n",
    "    wNOT=-0.2, wAND=np.array([1, 0]), wOR=np.array([0, 1]), \n",
    "    learning_rate=0.35, \n",
    "    bNOT=0.55, bAND=-1.5, bOR=- 0.25\n",
    ")"
   ]
  },
  {
   "cell_type": "code",
   "execution_count": 5,
   "metadata": {},
   "outputs": [],
   "source": [
    "perceptron.update_and()\n",
    "perceptron.update_or()\n",
    "perceptron.update_not()"
   ]
  },
  {
   "cell_type": "code",
   "execution_count": 6,
   "metadata": {},
   "outputs": [
    {
     "name": "stdout",
     "output_type": "stream",
     "text": [
      "Input Instance:  [0 0]  Predicted Value:  1\n",
      "Input Instance:  [1 1]  Predicted Value:  1\n",
      "Input Instance:  [0 1]  Predicted Value:  0\n",
      "Input Instance:  [1 0]  Predicted Value:  0\n"
     ]
    }
   ],
   "source": [
    "# Applying XNOR Logical Perceptron\n",
    "for i in range(len(test_data)):\n",
    "    result = perceptron.XNOR_logicFunction(test_data[i])\n",
    "    print('Input Instance: ', test_data[i], \" Predicted Value: \", result, )"
   ]
  },
  {
   "cell_type": "code",
   "execution_count": 7,
   "metadata": {},
   "outputs": [
    {
     "name": "stdout",
     "output_type": "stream",
     "text": [
      "Trained Weights:\n",
      "OR weight: [0.35 1.  ]\n",
      "AND weight: [1.35 0.35]\n",
      "NOT weight: -0.9\n"
     ]
    }
   ],
   "source": [
    "print(\"Trained Weights:\")\n",
    "print(\"OR weight:\", perceptron.wOR)\n",
    "print(\"AND weight:\", perceptron.wAND)\n",
    "print(\"NOT weight:\", perceptron.wNOT)"
   ]
  }
 ],
 "metadata": {
  "kernelspec": {
   "display_name": "VirtualEnv",
   "language": "python",
   "name": "python3"
  },
  "language_info": {
   "codemirror_mode": {
    "name": "ipython",
    "version": 3
   },
   "file_extension": ".py",
   "mimetype": "text/x-python",
   "name": "python",
   "nbconvert_exporter": "python",
   "pygments_lexer": "ipython3",
   "version": "3.12.4"
  }
 },
 "nbformat": 4,
 "nbformat_minor": 2
}
