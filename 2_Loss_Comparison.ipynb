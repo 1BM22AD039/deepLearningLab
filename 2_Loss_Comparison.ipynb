{
 "cells": [
  {
   "cell_type": "code",
   "execution_count": 13,
   "metadata": {},
   "outputs": [],
   "source": [
    "import tensorflow as tf\n",
    "from tensorflow.keras import layers, models, optimizers\n",
    "import numpy as np\n",
    "import matplotlib.pyplot as plt"
   ]
  },
  {
   "cell_type": "code",
   "execution_count": 14,
   "metadata": {},
   "outputs": [],
   "source": [
    "def create_data():\n",
    "    X = np.random.randn(1000, 10)\n",
    "    y = np.random.randn(1000, 1)\n",
    "    return X, y"
   ]
  },
  {
   "cell_type": "code",
   "execution_count": 15,
   "metadata": {},
   "outputs": [],
   "source": [
    "# Modification\n",
    "def leaky_relu(x, alpha=0.01):     # Defining Leaky Relu activation function\n",
    "    return tf.where(x >= 0, x, alpha * x)"
   ]
  },
  {
   "cell_type": "code",
   "execution_count": 16,
   "metadata": {},
   "outputs": [],
   "source": [
    "def create_model():\n",
    "    model = models.Sequential([\n",
    "        layers.Dense(50, activation=leaky_relu, input_shape=(10,)),\n",
    "        layers.Dense(20, activation=leaky_relu),\n",
    "        layers.Dense(1)\n",
    "    ])\n",
    "    return model"
   ]
  },
  {
   "cell_type": "code",
   "execution_count": 17,
   "metadata": {},
   "outputs": [],
   "source": [
    "def train_model_with_history(model, optimizer, X, y, batch_size, epochs, optimizer_name):\n",
    "    model.compile(optimizer=optimizer, loss='mean_squared_error')\n",
    "    history = []\n",
    "    for epoch in range(epochs):\n",
    "        hist = model.fit(X, y, batch_size=batch_size, epochs=1, verbose=0)\n",
    "        loss = hist.history['loss'][0]\n",
    "        history.append(loss)\n",
    "        print(f'Epoch {epoch + 1}/{epochs} - {optimizer_name} loss: {loss:.4f}')\n",
    "    return history"
   ]
  },
  {
   "cell_type": "code",
   "execution_count": 18,
   "metadata": {},
   "outputs": [],
   "source": [
    "X, y = create_data()"
   ]
  },
  {
   "cell_type": "code",
   "execution_count": 19,
   "metadata": {},
   "outputs": [],
   "source": [
    "model_sgd = create_model()\n",
    "model_adam = create_model()"
   ]
  },
  {
   "cell_type": "code",
   "execution_count": 20,
   "metadata": {},
   "outputs": [],
   "source": [
    "optimizer_sgd = optimizers.SGD(learning_rate=0.01)\n",
    "optimizer_adam = optimizers.Adam(learning_rate=0.001)"
   ]
  },
  {
   "cell_type": "code",
   "execution_count": 21,
   "metadata": {},
   "outputs": [],
   "source": [
    "epochs = 50\n",
    "batch_size = 32"
   ]
  },
  {
   "cell_type": "code",
   "execution_count": 22,
   "metadata": {},
   "outputs": [
    {
     "name": "stdout",
     "output_type": "stream",
     "text": [
      "\n",
      "Training with SGD optimizer: \n",
      "Epoch 1/50 - SGD loss: 1.0301\n",
      "Epoch 2/50 - SGD loss: 0.9962\n",
      "Epoch 3/50 - SGD loss: 0.9801\n",
      "Epoch 4/50 - SGD loss: 0.9670\n",
      "Epoch 5/50 - SGD loss: 0.9588\n",
      "Epoch 6/50 - SGD loss: 0.9527\n",
      "Epoch 7/50 - SGD loss: 0.9466\n",
      "Epoch 8/50 - SGD loss: 0.9410\n",
      "Epoch 9/50 - SGD loss: 0.9371\n",
      "Epoch 10/50 - SGD loss: 0.9331\n",
      "Epoch 11/50 - SGD loss: 0.9294\n",
      "Epoch 12/50 - SGD loss: 0.9254\n",
      "Epoch 13/50 - SGD loss: 0.9222\n",
      "Epoch 14/50 - SGD loss: 0.9190\n",
      "Epoch 15/50 - SGD loss: 0.9156\n",
      "Epoch 16/50 - SGD loss: 0.9112\n",
      "Epoch 17/50 - SGD loss: 0.9083\n",
      "Epoch 18/50 - SGD loss: 0.9062\n",
      "Epoch 19/50 - SGD loss: 0.9025\n",
      "Epoch 20/50 - SGD loss: 0.8991\n",
      "Epoch 21/50 - SGD loss: 0.8979\n",
      "Epoch 22/50 - SGD loss: 0.8940\n",
      "Epoch 23/50 - SGD loss: 0.8919\n",
      "Epoch 24/50 - SGD loss: 0.8892\n",
      "Epoch 25/50 - SGD loss: 0.8864\n",
      "Epoch 26/50 - SGD loss: 0.8837\n",
      "Epoch 27/50 - SGD loss: 0.8820\n",
      "Epoch 28/50 - SGD loss: 0.8799\n",
      "Epoch 29/50 - SGD loss: 0.8767\n",
      "Epoch 30/50 - SGD loss: 0.8732\n",
      "Epoch 31/50 - SGD loss: 0.8707\n",
      "Epoch 32/50 - SGD loss: 0.8693\n",
      "Epoch 33/50 - SGD loss: 0.8666\n",
      "Epoch 34/50 - SGD loss: 0.8641\n",
      "Epoch 35/50 - SGD loss: 0.8610\n",
      "Epoch 36/50 - SGD loss: 0.8576\n",
      "Epoch 37/50 - SGD loss: 0.8548\n",
      "Epoch 38/50 - SGD loss: 0.8540\n",
      "Epoch 39/50 - SGD loss: 0.8507\n",
      "Epoch 40/50 - SGD loss: 0.8483\n",
      "Epoch 41/50 - SGD loss: 0.8452\n",
      "Epoch 42/50 - SGD loss: 0.8449\n",
      "Epoch 43/50 - SGD loss: 0.8416\n",
      "Epoch 44/50 - SGD loss: 0.8385\n",
      "Epoch 45/50 - SGD loss: 0.8366\n",
      "Epoch 46/50 - SGD loss: 0.8337\n",
      "Epoch 47/50 - SGD loss: 0.8315\n",
      "Epoch 48/50 - SGD loss: 0.8290\n",
      "Epoch 49/50 - SGD loss: 0.8243\n",
      "Epoch 50/50 - SGD loss: 0.8226\n"
     ]
    }
   ],
   "source": [
    "print('\\nTraining with SGD optimizer: ')\n",
    "sgd_loss = train_model_with_history(model_sgd, optimizer_sgd, X, y, batch_size, epochs, 'SGD')"
   ]
  },
  {
   "cell_type": "code",
   "execution_count": 23,
   "metadata": {},
   "outputs": [
    {
     "name": "stdout",
     "output_type": "stream",
     "text": [
      "\n",
      "Training with Adam optimizer: \n",
      "Epoch 1/50 - Adam loss: 1.1054\n",
      "Epoch 2/50 - Adam loss: 1.0021\n",
      "Epoch 3/50 - Adam loss: 0.9735\n",
      "Epoch 4/50 - Adam loss: 0.9536\n",
      "Epoch 5/50 - Adam loss: 0.9411\n",
      "Epoch 6/50 - Adam loss: 0.9257\n",
      "Epoch 7/50 - Adam loss: 0.9129\n",
      "Epoch 8/50 - Adam loss: 0.9027\n",
      "Epoch 9/50 - Adam loss: 0.8927\n",
      "Epoch 10/50 - Adam loss: 0.8838\n",
      "Epoch 11/50 - Adam loss: 0.8709\n",
      "Epoch 12/50 - Adam loss: 0.8643\n",
      "Epoch 13/50 - Adam loss: 0.8530\n",
      "Epoch 14/50 - Adam loss: 0.8457\n",
      "Epoch 15/50 - Adam loss: 0.8374\n",
      "Epoch 16/50 - Adam loss: 0.8302\n",
      "Epoch 17/50 - Adam loss: 0.8211\n",
      "Epoch 18/50 - Adam loss: 0.8124\n",
      "Epoch 19/50 - Adam loss: 0.8071\n",
      "Epoch 20/50 - Adam loss: 0.7960\n",
      "Epoch 21/50 - Adam loss: 0.7900\n",
      "Epoch 22/50 - Adam loss: 0.7844\n",
      "Epoch 23/50 - Adam loss: 0.7762\n",
      "Epoch 24/50 - Adam loss: 0.7656\n",
      "Epoch 25/50 - Adam loss: 0.7585\n",
      "Epoch 26/50 - Adam loss: 0.7511\n",
      "Epoch 27/50 - Adam loss: 0.7435\n",
      "Epoch 28/50 - Adam loss: 0.7376\n",
      "Epoch 29/50 - Adam loss: 0.7287\n",
      "Epoch 30/50 - Adam loss: 0.7267\n",
      "Epoch 31/50 - Adam loss: 0.7164\n",
      "Epoch 32/50 - Adam loss: 0.7124\n",
      "Epoch 33/50 - Adam loss: 0.7003\n",
      "Epoch 34/50 - Adam loss: 0.6914\n",
      "Epoch 35/50 - Adam loss: 0.6895\n",
      "Epoch 36/50 - Adam loss: 0.6808\n",
      "Epoch 37/50 - Adam loss: 0.6721\n",
      "Epoch 38/50 - Adam loss: 0.6671\n",
      "Epoch 39/50 - Adam loss: 0.6634\n",
      "Epoch 40/50 - Adam loss: 0.6545\n",
      "Epoch 41/50 - Adam loss: 0.6440\n",
      "Epoch 42/50 - Adam loss: 0.6411\n",
      "Epoch 43/50 - Adam loss: 0.6343\n",
      "Epoch 44/50 - Adam loss: 0.6260\n",
      "Epoch 45/50 - Adam loss: 0.6195\n",
      "Epoch 46/50 - Adam loss: 0.6096\n",
      "Epoch 47/50 - Adam loss: 0.6042\n",
      "Epoch 48/50 - Adam loss: 0.5977\n",
      "Epoch 49/50 - Adam loss: 0.5931\n",
      "Epoch 50/50 - Adam loss: 0.5878\n"
     ]
    }
   ],
   "source": [
    "print('\\nTraining with Adam optimizer: ')\n",
    "adam_loss = train_model_with_history(model_adam, optimizer_adam, X, y, batch_size, epochs, 'Adam')"
   ]
  },
  {
   "cell_type": "code",
   "execution_count": 24,
   "metadata": {},
   "outputs": [
    {
     "data": {
      "image/png": "[encoded data removed]",
      "text/plain": [
       "<Figure size 640x480 with 1 Axes>"
      ]
     },
     "metadata": {},
     "output_type": "display_data"
    }
   ],
   "source": [
    "plt.plot(range(1, epochs + 1), sgd_loss, label='SGD', color='blue')\n",
    "plt.plot(range(1, epochs + 1), adam_loss, label='Adam', color='red')\n",
    "plt.title('SGD vs Adam Optimizer: Loss Comparison')\n",
    "plt.xlabel('Epochs')\n",
    "plt.ylabel('Loss')\n",
    "plt.legend()\n",
    "plt.grid(True)\n",
    "plt.show()"
   ]
  }
 ],
 "metadata": {
  "kernelspec": {
   "display_name": "VirtualEnv",
   "language": "python",
   "name": "python3"
  },
  "language_info": {
   "codemirror_mode": {
    "name": "ipython",
    "version": 3
   },
   "file_extension": ".py",
   "mimetype": "text/x-python",
   "name": "python",
   "nbconvert_exporter": "python",
   "pygments_lexer": "ipython3",
   "version": "3.12.4"
  }
 },
 "nbformat": 4,
 "nbformat_minor": 2
}
